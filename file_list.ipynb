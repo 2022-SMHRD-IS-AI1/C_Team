{
 "cells": [
  {
   "cell_type": "code",
   "execution_count": 68,
   "metadata": {
    "ExecuteTime": {
     "end_time": "2023-03-10T02:42:59.189978Z",
     "start_time": "2023-03-10T02:42:58.695124Z"
    }
   },
   "outputs": [
    {
     "ename": "ValueError",
     "evalue": "not enough values to unpack (expected 4, got 1)",
     "output_type": "error",
     "traceback": [
      "\u001b[1;31m---------------------------------------------------------------------------\u001b[0m",
      "\u001b[1;31mValueError\u001b[0m                                Traceback (most recent call last)",
      "\u001b[1;32m~\\AppData\\Local\\Temp\\ipykernel_9168\\232389641.py\u001b[0m in \u001b[0;36m<module>\u001b[1;34m\u001b[0m\n\u001b[0;32m     12\u001b[0m \u001b[1;33m\u001b[0m\u001b[0m\n\u001b[0;32m     13\u001b[0m \u001b[1;33m\u001b[0m\u001b[0m\n\u001b[1;32m---> 14\u001b[1;33m \u001b[1;32mfor\u001b[0m \u001b[0mtoken\u001b[0m\u001b[1;33m,\u001b[0m \u001b[0mpos\u001b[0m\u001b[1;33m,\u001b[0m \u001b[0m_\u001b[0m\u001b[1;33m,\u001b[0m \u001b[0m_\u001b[0m \u001b[1;32min\u001b[0m \u001b[0mresult\u001b[0m\u001b[1;33m[\u001b[0m\u001b[1;36m0\u001b[0m\u001b[1;33m]\u001b[0m\u001b[1;33m[\u001b[0m\u001b[1;36m0\u001b[0m\u001b[1;33m]\u001b[0m\u001b[1;33m:\u001b[0m\u001b[1;33m\u001b[0m\u001b[1;33m\u001b[0m\u001b[0m\n\u001b[0m\u001b[0;32m     15\u001b[0m     \u001b[1;32mif\u001b[0m \u001b[0mpos\u001b[0m\u001b[1;33m.\u001b[0m\u001b[0mstartswith\u001b[0m\u001b[1;33m(\u001b[0m\u001b[1;34m'NN'\u001b[0m\u001b[1;33m)\u001b[0m\u001b[1;33m:\u001b[0m\u001b[1;33m\u001b[0m\u001b[1;33m\u001b[0m\u001b[0m\n\u001b[0;32m     16\u001b[0m         \u001b[0mprint\u001b[0m\u001b[1;33m(\u001b[0m\u001b[0mtoken\u001b[0m\u001b[1;33m)\u001b[0m\u001b[1;33m\u001b[0m\u001b[1;33m\u001b[0m\u001b[0m\n",
      "\u001b[1;31mValueError\u001b[0m: not enough values to unpack (expected 4, got 1)"
     ]
    }
   ],
   "source": [
    "import os\n",
    "import docx2txt\n",
    "from kiwipiepy import Kiwi\n",
    "\n",
    "file_list = os.listdir('./new_folder')\n",
    "kiwi = Kiwi(load_default_dict=True)\n",
    "kiwi.prepare()\n",
    "\n",
    "\n",
    "text = docx2txt.process('./new_folder/'+file_list[0])\n",
    "kiwi.add_user_word(\"3D\", \"NNG\")\n",
    "\n",
    "\n",
    "for token, pos, _, _ in result[0][0]:\n",
    "    if pos.startswith('NN'):\n",
    "        print(token)"
   ]
  },
  {
   "cell_type": "code",
   "execution_count": 77,
   "metadata": {
    "ExecuteTime": {
     "end_time": "2023-03-10T03:23:05.692630Z",
     "start_time": "2023-03-10T03:23:04.795181Z"
    }
   },
   "outputs": [
    {
     "data": {
      "text/plain": [
       "'3D 목적 3D 기술 활용 효율 제품 서비스 개발 제공 개인 기업 생산 효율 향상 전략 3D 기술 개발 연구 3D 웹 애플리케이션 개발 프린터 솔루션 개발 3D 스캐너 솔루션 개발 3D 솔루션 배포 시장 진출 사용자 가이드 지원 과정 기술 분석 문제 정의 3D 웹 애플리케이션 개발 프린터 솔루션 개발 3D 스캐너 솔루션 개발 3D 솔루션 검증 배포 사용자 가이드 지원 3D 솔루션 사용 결과 모니터링 3D 솔루션 사용 결과 기반 사업 방향 설정 최적화 '"
      ]
     },
     "execution_count": 77,
     "metadata": {},
     "output_type": "execute_result"
    }
   ],
   "source": [
    "import os\n",
    "import docx2txt\n",
    "from kiwipiepy import Kiwi\n",
    "\n",
    "file_list = os.listdir('./new_folder')\n",
    "# print(file_list)\n",
    "kiwi = Kiwi(load_default_dict=True)\n",
    "#kiwi.load_user_dictionary('user_dictionary.txt')\n",
    "kiwi.prepare()\n",
    "\n",
    "\n",
    "text = docx2txt.process('./new_folder/'+file_list[0])\n",
    "# print(text)\n",
    "# 용언품사 = ['VV', 'VA']\n",
    "kiwi.add_user_word(\"3D\", \"NNG\")\n",
    "result = kiwi.analyze(text)\n",
    "# result = kiwi.tokenize(text, split_sents=True)\n",
    "\n",
    "#print(result[0][0])\n",
    "cont = ''\n",
    "for token, pos, _, _ in result[0][0]:\n",
    "    if pos.startswith('NN'):\n",
    "        cont += token +' '\n",
    "cont"
   ]
  },
  {
   "cell_type": "code",
   "execution_count": 62,
   "metadata": {
    "ExecuteTime": {
     "end_time": "2023-03-10T02:35:02.112843Z",
     "start_time": "2023-03-10T02:35:02.080687Z"
    }
   },
   "outputs": [
    {
     "data": {
      "text/plain": [
       "True"
      ]
     },
     "execution_count": 62,
     "metadata": {},
     "output_type": "execute_result"
    }
   ],
   "source": [
    "kiwi.add_user_word(\"3D\", \"NNG\")"
   ]
  },
  {
   "cell_type": "code",
   "execution_count": 38,
   "metadata": {
    "ExecuteTime": {
     "end_time": "2023-03-10T02:22:03.640554Z",
     "start_time": "2023-03-10T02:22:03.632574Z"
    }
   },
   "outputs": [],
   "source": [
    "def extract_noun(text):\n",
    "    result = kiwi.analyze(text)\n",
    "    for token, pos, _, _ in result[0][0]:\n",
    "        if pos.startswith('NN'):\n",
    "            yield token"
   ]
  },
  {
   "cell_type": "code",
   "execution_count": 48,
   "metadata": {
    "ExecuteTime": {
     "end_time": "2023-03-10T02:31:15.911790Z",
     "start_time": "2023-03-10T02:31:15.904835Z"
    }
   },
   "outputs": [
    {
     "data": {
      "text/plain": [
       "'3D\\n\\n\\n\\n1. 목적: 3D 기술을 활용하여 보다 효율적이고 저렴한 제품 및 서비스를 개발하고 제공하여 개인과 기업의 생산성과 효율성을 향상시키기 위함\\n\\n2. 전략: \\n- 3D 기술 개발 및 연구\\n- 3D 웹 애플리케이션 개발\\n- 3D 프린터 및 솔루션 개발\\n- 3D 스캐너 및 솔루션 개발\\n- 3D 솔루션 배포 및 시장 진출\\n- 사용자 가이드 및 지원\\n\\n3. 과정: \\n- 3D 기술 분석 및 문제 정의\\n- 3D 웹 애플리케이션 개발\\n- 3D 프린터 및 솔루션 개발\\n- 3D 스캐너 및 솔루션 개발\\n- 3D 솔루션 검증 및 배포\\n- 사용자 가이드 및 지원\\n- 3D 솔루션 사용 결과 모니터링\\n- 3D 솔루션 사용 결과를 기반으로 사업 방향 설정 및 최적화'"
      ]
     },
     "execution_count": 48,
     "metadata": {},
     "output_type": "execute_result"
    }
   ],
   "source": [
    "text"
   ]
  },
  {
   "cell_type": "code",
   "execution_count": 63,
   "metadata": {
    "ExecuteTime": {
     "end_time": "2023-03-10T02:35:03.992886Z",
     "start_time": "2023-03-10T02:35:03.639813Z"
    }
   },
   "outputs": [
    {
     "data": {
      "text/plain": [
       "[([Token(form='3D', tag='NNG', start=0, len=2)], -12.268058776855469)]"
      ]
     },
     "execution_count": 63,
     "metadata": {},
     "output_type": "execute_result"
    }
   ],
   "source": [
    "#kiwi.load_user_dictionary('user_dictionary.txt')\n",
    "kiwi.analyze('3D')"
   ]
  },
  {
   "cell_type": "code",
   "execution_count": null,
   "metadata": {},
   "outputs": [],
   "source": [
    "cont"
   ]
  },
  {
   "cell_type": "code",
   "execution_count": 80,
   "metadata": {
    "ExecuteTime": {
     "end_time": "2023-03-10T03:25:46.781981Z",
     "start_time": "2023-03-10T03:25:36.906154Z"
    }
   },
   "outputs": [],
   "source": [
    "# KeyBert 활용하여 keyword추출\n",
    "from keybert import KeyBERT"
   ]
  },
  {
   "cell_type": "code",
   "execution_count": 109,
   "metadata": {
    "ExecuteTime": {
     "end_time": "2023-03-10T05:26:40.248814Z",
     "start_time": "2023-03-10T05:26:39.212591Z"
    },
    "scrolled": true
   },
   "outputs": [
    {
     "data": {
      "text/plain": [
       "[('정의 3d 애플리케이션 개발 프린터', 0.6515),\n",
       " ('문제 정의 3d 애플리케이션 개발', 0.6246),\n",
       " ('분석 문제 정의 3d 애플리케이션', 0.6214),\n",
       " ('정의 3d 애플리케이션 개발', 0.6179),\n",
       " ('애플리케이션 개발 프린터 솔루션 개발', 0.6126),\n",
       " ('연구 3d 애플리케이션 개발 프린터', 0.6107),\n",
       " ('애플리케이션 개발 프린터 솔루션', 0.5951),\n",
       " ('문제 정의 3d 애플리케이션', 0.5816),\n",
       " ('모니터링 3d 솔루션 사용 결과', 0.577),\n",
       " ('3d 애플리케이션 개발 프린터 솔루션', 0.577)]"
      ]
     },
     "execution_count": 109,
     "metadata": {},
     "output_type": "execute_result"
    }
   ],
   "source": [
    "#stop_words=None 불용어 제거 하는 기준 None ex) stop_words=['3d']\n",
    "kw_model = KeyBERT()\n",
    "keywords = kw_model.extract_keywords(cont, keyphrase_ngram_range=(1, 5), stop_words=None, top_n=10)\n",
    "keywords"
   ]
  },
  {
   "cell_type": "code",
   "execution_count": 106,
   "metadata": {
    "ExecuteTime": {
     "end_time": "2023-03-10T05:26:16.078767Z",
     "start_time": "2023-03-10T05:26:16.067796Z"
    },
    "scrolled": true
   },
   "outputs": [
    {
     "data": {
      "text/plain": [
       "array([['정의 3d 애플리케이션', '0.5764'],\n",
       "       ['애플리케이션 개발 프린터', '0.5448'],\n",
       "       ['연구 3d 애플리케이션', '0.52'],\n",
       "       ['3d 애플리케이션 개발', '0.4708'],\n",
       "       ['애플리케이션 개발', '0.4652'],\n",
       "       ['모니터링 3d 솔루션', '0.4636'],\n",
       "       ['솔루션 검증 배포', '0.4545'],\n",
       "       ['솔루션 사용 결과', '0.4498'],\n",
       "       ['분석 문제 정의', '0.4461'],\n",
       "       ['3d 솔루션 검증', '0.4453']], dtype='<U32')"
      ]
     },
     "execution_count": 106,
     "metadata": {},
     "output_type": "execute_result"
    }
   ],
   "source": [
    "import numpy as np\n",
    "np.array(keywords)"
   ]
  },
  {
   "cell_type": "code",
   "execution_count": 94,
   "metadata": {
    "ExecuteTime": {
     "end_time": "2023-03-10T05:18:39.800567Z",
     "start_time": "2023-03-10T05:18:39.461522Z"
    },
    "scrolled": true
   },
   "outputs": [
    {
     "data": {
      "text/plain": [
       "[('애플리케이션', 0.4254),\n",
       " ('제공하여', 0.3974),\n",
       " ('생산성과', 0.3879),\n",
       " ('활용하여', 0.3331),\n",
       " ('정의', 0.3314),\n",
       " ('효율성을', 0.3289),\n",
       " ('효율적이고', 0.3248),\n",
       " ('기업의', 0.302),\n",
       " ('사용자', 0.2558),\n",
       " ('개인과', 0.2502)]"
      ]
     },
     "execution_count": 94,
     "metadata": {},
     "output_type": "execute_result"
    }
   ],
   "source": [
    "kw_model = KeyBERT()\n",
    "keywords = kw_model.extract_keywords(text, keyphrase_ngram_range=(1, 1), stop_words=None, top_n=10)\n",
    "keywords"
   ]
  },
  {
   "cell_type": "code",
   "execution_count": null,
   "metadata": {},
   "outputs": [],
   "source": []
  }
 ],
 "metadata": {
  "kernelspec": {
   "display_name": "Python 3 (ipykernel)",
   "language": "python",
   "name": "python3"
  },
  "language_info": {
   "codemirror_mode": {
    "name": "ipython",
    "version": 3
   },
   "file_extension": ".py",
   "mimetype": "text/x-python",
   "name": "python",
   "nbconvert_exporter": "python",
   "pygments_lexer": "ipython3",
   "version": "3.9.13"
  },
  "toc": {
   "base_numbering": 1,
   "nav_menu": {},
   "number_sections": true,
   "sideBar": true,
   "skip_h1_title": false,
   "title_cell": "Table of Contents",
   "title_sidebar": "Contents",
   "toc_cell": false,
   "toc_position": {},
   "toc_section_display": true,
   "toc_window_display": false
  }
 },
 "nbformat": 4,
 "nbformat_minor": 2
}
